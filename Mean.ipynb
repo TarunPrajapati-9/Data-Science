{
 "cells": [
  {
   "cell_type": "markdown",
   "id": "f0f6396c-cf31-4b1c-ad7d-e377d25e549d",
   "metadata": {},
   "source": [
    "Mean in Python"
   ]
  },
  {
   "cell_type": "code",
   "execution_count": 2,
   "id": "443f06c5-e08b-4619-ae69-3fa6e3f0e6f8",
   "metadata": {},
   "outputs": [],
   "source": [
    "#Import Modules\n",
    "import numpy as np\n",
    "import pandas as pd "
   ]
  },
  {
   "cell_type": "code",
   "execution_count": 4,
   "id": "6d713b4e-8375-48c6-ac0e-30594ef963b6",
   "metadata": {},
   "outputs": [],
   "source": [
    "#Create array using numpy\n",
    "ar =  np.array([1,2,3,4,5,6,7,8,9,10])"
   ]
  },
  {
   "cell_type": "code",
   "execution_count": 5,
   "id": "c411daf6-4dc0-4475-9b2e-3b004541a31e",
   "metadata": {},
   "outputs": [
    {
     "data": {
      "text/plain": [
       "55"
      ]
     },
     "execution_count": 5,
     "metadata": {},
     "output_type": "execute_result"
    }
   ],
   "source": [
    "np.sum(ar) #sum of all elements"
   ]
  },
  {
   "cell_type": "code",
   "execution_count": 6,
   "id": "10ddc6cd-6095-48ca-a3b1-197e1531d67a",
   "metadata": {},
   "outputs": [
    {
     "data": {
      "text/plain": [
       "10"
      ]
     },
     "execution_count": 6,
     "metadata": {},
     "output_type": "execute_result"
    }
   ],
   "source": [
    "len(ar) #length of array"
   ]
  },
  {
   "cell_type": "code",
   "execution_count": 7,
   "id": "587064e0-a974-467f-a9e6-b98fedf9d78a",
   "metadata": {},
   "outputs": [
    {
     "data": {
      "text/plain": [
       "5.5"
      ]
     },
     "execution_count": 7,
     "metadata": {},
     "output_type": "execute_result"
    }
   ],
   "source": [
    "np.sum(ar)/len(ar) #Mean formula manually"
   ]
  },
  {
   "cell_type": "code",
   "execution_count": 8,
   "id": "dde42c72-6f9a-4232-9323-168ea2928124",
   "metadata": {},
   "outputs": [
    {
     "data": {
      "text/plain": [
       "5.5"
      ]
     },
     "execution_count": 8,
     "metadata": {},
     "output_type": "execute_result"
    }
   ],
   "source": [
    "np.mean(ar) #direct mean function using numpy"
   ]
  }
 ],
 "metadata": {
  "kernelspec": {
   "display_name": "Python 3 (ipykernel)",
   "language": "python",
   "name": "python3"
  },
  "language_info": {
   "codemirror_mode": {
    "name": "ipython",
    "version": 3
   },
   "file_extension": ".py",
   "mimetype": "text/x-python",
   "name": "python",
   "nbconvert_exporter": "python",
   "pygments_lexer": "ipython3",
   "version": "3.10.5"
  }
 },
 "nbformat": 4,
 "nbformat_minor": 5
}
