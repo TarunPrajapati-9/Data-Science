{
 "cells": [
  {
   "cell_type": "markdown",
   "id": "666867ca-46e1-4248-818b-856bdb6695ad",
   "metadata": {},
   "source": [
    "Find Missing Values"
   ]
  },
  {
   "cell_type": "code",
   "execution_count": 2,
   "id": "5fb3dcb5-e866-43ac-a3c7-9a5fcb551202",
   "metadata": {},
   "outputs": [],
   "source": [
    "import pandas as pd\n",
    "import seaborn as sns\n",
    "import matplotlib.pyplot as plt"
   ]
  },
  {
   "cell_type": "code",
   "execution_count": 3,
   "id": "539022a6-ae57-4ba1-af18-bc3a9d73f48e",
   "metadata": {},
   "outputs": [],
   "source": [
    "dataset =  pd.read_csv(r\"F:\\Coding\\Python\\Data Science\\ElectricVehicle.csv\")"
   ]
  },
  {
   "cell_type": "code",
   "execution_count": 4,
   "id": "7e38727f-5962-49b6-91f1-da65752e70a1",
   "metadata": {},
   "outputs": [
    {
     "data": {
      "text/plain": [
       "VIN (1-10)                                             0\n",
       "County                                                 9\n",
       "City                                                   9\n",
       "State                                                  0\n",
       "Postal Code                                            9\n",
       "Model Year                                             0\n",
       "Make                                                   0\n",
       "Model                                                  0\n",
       "Electric Vehicle Type                                  0\n",
       "Clean Alternative Fuel Vehicle (CAFV) Eligibility      0\n",
       "Electric Range                                         2\n",
       "Base MSRP                                              2\n",
       "Legislative District                                 432\n",
       "DOL Vehicle ID                                         0\n",
       "Vehicle Location                                      13\n",
       "Electric Utility                                       9\n",
       "2020 Census Tract                                      9\n",
       "dtype: int64"
      ]
     },
     "execution_count": 4,
     "metadata": {},
     "output_type": "execute_result"
    }
   ],
   "source": [
    "dataset.isnull().sum()"
   ]
  },
  {
   "cell_type": "code",
   "execution_count": 5,
   "id": "fb8b7299-b4e0-4ce5-b613-11f4c1e4315c",
   "metadata": {},
   "outputs": [
    {
     "data": {
      "text/plain": [
       "494"
      ]
     },
     "execution_count": 5,
     "metadata": {},
     "output_type": "execute_result"
    }
   ],
   "source": [
    "dataset.isnull().sum().sum() #total numbers of Null Values"
   ]
  },
  {
   "cell_type": "code",
   "execution_count": 6,
   "id": "b4c1ae39-72fc-445e-ac6d-f805104cdf97",
   "metadata": {},
   "outputs": [
    {
     "data": {
      "text/plain": [
       "(194232, 17)"
      ]
     },
     "execution_count": 6,
     "metadata": {},
     "output_type": "execute_result"
    }
   ],
   "source": [
    "dataset.shape #Row, Column in data"
   ]
  },
  {
   "cell_type": "code",
   "execution_count": 7,
   "id": "0d737d83-4bb2-4986-8953-334873af64bc",
   "metadata": {},
   "outputs": [
    {
     "data": {
      "text/plain": [
       "VIN (1-10)                                           0.000000\n",
       "County                                               0.004634\n",
       "City                                                 0.004634\n",
       "State                                                0.000000\n",
       "Postal Code                                          0.004634\n",
       "Model Year                                           0.000000\n",
       "Make                                                 0.000000\n",
       "Model                                                0.000000\n",
       "Electric Vehicle Type                                0.000000\n",
       "Clean Alternative Fuel Vehicle (CAFV) Eligibility    0.000000\n",
       "Electric Range                                       0.001030\n",
       "Base MSRP                                            0.001030\n",
       "Legislative District                                 0.222414\n",
       "DOL Vehicle ID                                       0.000000\n",
       "Vehicle Location                                     0.006693\n",
       "Electric Utility                                     0.004634\n",
       "2020 Census Tract                                    0.004634\n",
       "dtype: float64"
      ]
     },
     "execution_count": 7,
     "metadata": {},
     "output_type": "execute_result"
    }
   ],
   "source": [
    "((dataset.isnull().sum())/dataset.shape[0])*100 #Percentage of Null Values"
   ]
  },
  {
   "cell_type": "code",
   "execution_count": 8,
   "id": "d9ea4a08-4ccb-460c-ae22-986630a9f86b",
   "metadata": {},
   "outputs": [
    {
     "data": {
      "text/plain": [
       "0.01496088364914729"
      ]
     },
     "execution_count": 8,
     "metadata": {},
     "output_type": "execute_result"
    }
   ],
   "source": [
    "((dataset.isnull().sum().sum())/(dataset.shape[0]*dataset.shape[1]))*100 #Percentage of Total Null Values"
   ]
  },
  {
   "cell_type": "code",
   "execution_count": 9,
   "id": "2edbf5c0-793a-4c4e-9dce-991ec3bb93c9",
   "metadata": {},
   "outputs": [
    {
     "data": {
      "text/plain": [
       "VIN (1-10)                                           194232\n",
       "County                                               194223\n",
       "City                                                 194223\n",
       "State                                                194232\n",
       "Postal Code                                          194223\n",
       "Model Year                                           194232\n",
       "Make                                                 194232\n",
       "Model                                                194232\n",
       "Electric Vehicle Type                                194232\n",
       "Clean Alternative Fuel Vehicle (CAFV) Eligibility    194232\n",
       "Electric Range                                       194230\n",
       "Base MSRP                                            194230\n",
       "Legislative District                                 193800\n",
       "DOL Vehicle ID                                       194232\n",
       "Vehicle Location                                     194219\n",
       "Electric Utility                                     194223\n",
       "2020 Census Tract                                    194223\n",
       "dtype: int64"
      ]
     },
     "execution_count": 9,
     "metadata": {},
     "output_type": "execute_result"
    }
   ],
   "source": [
    "dataset.notnull().sum() #Not Null Values Total ColumnWise"
   ]
  },
  {
   "cell_type": "code",
   "execution_count": 10,
   "id": "41747169-c146-44d7-ba78-6ab6f3161b32",
   "metadata": {},
   "outputs": [
    {
     "data": {
      "text/plain": [
       "3301450"
      ]
     },
     "execution_count": 10,
     "metadata": {},
     "output_type": "execute_result"
    }
   ],
   "source": [
    "dataset.notnull().sum().sum() #Not Null Values Total"
   ]
  },
  {
   "cell_type": "code",
   "execution_count": 16,
   "id": "f55fa5a3-bada-4dc0-a1df-09df9c68730b",
   "metadata": {},
   "outputs": [
    {
     "data": {
      "image/png": "[encoded data removed]",
      "text/plain": [
       "<Figure size 640x480 with 2 Axes>"
      ]
     },
     "metadata": {},
     "output_type": "display_data"
    }
   ],
   "source": [
    "sns.heatmap(dataset.isnull())\n",
    "plt.show()"
   ]
  },
  {
   "cell_type": "code",
   "execution_count": 12,
   "id": "8326b092-dc93-4e88-86f3-e3b5857fc4dd",
   "metadata": {},
   "outputs": [],
   "source": [
    "dataset.drop(columns=['Legislative District'], inplace=True) #Drop entire column which contains null values"
   ]
  },
  {
   "cell_type": "code",
   "execution_count": 13,
   "id": "4ebfcb56-df16-4dfa-941b-761113acef4e",
   "metadata": {},
   "outputs": [
    {
     "data": {
      "text/plain": [
       "(194232, 16)"
      ]
     },
     "execution_count": 13,
     "metadata": {},
     "output_type": "execute_result"
    }
   ],
   "source": [
    "dataset.shape"
   ]
  },
  {
   "cell_type": "code",
   "execution_count": 14,
   "id": "07c56d73-6e41-425a-bef6-57a5a1b51454",
   "metadata": {},
   "outputs": [],
   "source": [
    "dataset.dropna(inplace=True) #Drop rows that contains a null values"
   ]
  },
  {
   "cell_type": "code",
   "execution_count": 15,
   "id": "c58216b0-8260-4d34-9897-8580a09f2a47",
   "metadata": {},
   "outputs": [
    {
     "data": {
      "text/plain": [
       "(194217, 16)"
      ]
     },
     "execution_count": 15,
     "metadata": {},
     "output_type": "execute_result"
    }
   ],
   "source": [
    "dataset.shape"
   ]
  },
  {
   "cell_type": "code",
   "execution_count": 18,
   "id": "9440103a-e873-4fd3-a24a-a0a60d216f3d",
   "metadata": {},
   "outputs": [
    {
     "data": {
      "text/plain": [
       "0.007722723341159026"
      ]
     },
     "execution_count": 18,
     "metadata": {},
     "output_type": "execute_result"
    }
   ],
   "source": [
    "((194232 - 194217)/194232) * 100 #Loss percentage of data after Dropping rows"
   ]
  },
  {
   "cell_type": "code",
   "execution_count": null,
   "id": "19c866dd-184e-419a-8519-3a8c538a1923",
   "metadata": {},
   "outputs": [],
   "source": []
  },
  {
   "cell_type": "code",
   "execution_count": null,
   "id": "bbcb47f2-1daa-4506-bba1-a76d5342f2a8",
   "metadata": {},
   "outputs": [],
   "source": []
  },
  {
   "cell_type": "code",
   "execution_count": null,
   "id": "44c82d0b-3693-44d9-854e-d870800f9218",
   "metadata": {},
   "outputs": [],
   "source": []
  },
  {
   "cell_type": "code",
   "execution_count": 31,
   "id": "c18b23f6-96ee-497d-9bfb-b77c6dc7858e",
   "metadata": {},
   "outputs": [],
   "source": [
    "dataset2 = pd.read_csv(\"carsales.csv\")"
   ]
  },
  {
   "cell_type": "code",
   "execution_count": 36,
   "id": "cf7d6dc6-933a-4016-9303-ccc639608618",
   "metadata": {},
   "outputs": [
    {
     "data": {
      "text/html": [
       "<div>\n",
       "<style scoped>\n",
       "    .dataframe tbody tr th:only-of-type {\n",
       "        vertical-align: middle;\n",
       "    }\n",
       "\n",
       "    .dataframe tbody tr th {\n",
       "        vertical-align: top;\n",
       "    }\n",
       "\n",
       "    .dataframe thead th {\n",
       "        text-align: right;\n",
       "    }\n",
       "</style>\n",
       "<table border=\"1\" class=\"dataframe\">\n",
       "  <thead>\n",
       "    <tr style=\"text-align: right;\">\n",
       "      <th></th>\n",
       "      <th>Make</th>\n",
       "      <th>Colour</th>\n",
       "      <th>Odometer (KM)</th>\n",
       "      <th>Doors</th>\n",
       "      <th>Price</th>\n",
       "    </tr>\n",
       "  </thead>\n",
       "  <tbody>\n",
       "    <tr>\n",
       "      <th>0</th>\n",
       "      <td>Honda</td>\n",
       "      <td>White</td>\n",
       "      <td>35431.0</td>\n",
       "      <td>4.0</td>\n",
       "      <td>15323.0</td>\n",
       "    </tr>\n",
       "    <tr>\n",
       "      <th>1</th>\n",
       "      <td>BMW</td>\n",
       "      <td>Blue</td>\n",
       "      <td>192714.0</td>\n",
       "      <td>5.0</td>\n",
       "      <td>19943.0</td>\n",
       "    </tr>\n",
       "    <tr>\n",
       "      <th>2</th>\n",
       "      <td>Honda</td>\n",
       "      <td>White</td>\n",
       "      <td>84714.0</td>\n",
       "      <td>4.0</td>\n",
       "      <td>28343.0</td>\n",
       "    </tr>\n",
       "    <tr>\n",
       "      <th>3</th>\n",
       "      <td>Toyota</td>\n",
       "      <td>White</td>\n",
       "      <td>154365.0</td>\n",
       "      <td>4.0</td>\n",
       "      <td>13434.0</td>\n",
       "    </tr>\n",
       "    <tr>\n",
       "      <th>4</th>\n",
       "      <td>Nissan</td>\n",
       "      <td>Blue</td>\n",
       "      <td>181577.0</td>\n",
       "      <td>3.0</td>\n",
       "      <td>14043.0</td>\n",
       "    </tr>\n",
       "    <tr>\n",
       "      <th>5</th>\n",
       "      <td>Honda</td>\n",
       "      <td>Red</td>\n",
       "      <td>42652.0</td>\n",
       "      <td>4.0</td>\n",
       "      <td>23883.0</td>\n",
       "    </tr>\n",
       "    <tr>\n",
       "      <th>6</th>\n",
       "      <td>Toyota</td>\n",
       "      <td>Blue</td>\n",
       "      <td>163453.0</td>\n",
       "      <td>4.0</td>\n",
       "      <td>8473.0</td>\n",
       "    </tr>\n",
       "    <tr>\n",
       "      <th>7</th>\n",
       "      <td>Honda</td>\n",
       "      <td>White</td>\n",
       "      <td>10.0</td>\n",
       "      <td>4.0</td>\n",
       "      <td>20306.0</td>\n",
       "    </tr>\n",
       "    <tr>\n",
       "      <th>8</th>\n",
       "      <td>10</td>\n",
       "      <td>White</td>\n",
       "      <td>130538.0</td>\n",
       "      <td>4.0</td>\n",
       "      <td>9374.0</td>\n",
       "    </tr>\n",
       "    <tr>\n",
       "      <th>9</th>\n",
       "      <td>Honda</td>\n",
       "      <td>Blue</td>\n",
       "      <td>51029.0</td>\n",
       "      <td>4.0</td>\n",
       "      <td>26683.0</td>\n",
       "    </tr>\n",
       "    <tr>\n",
       "      <th>10</th>\n",
       "      <td>Nissan</td>\n",
       "      <td>White</td>\n",
       "      <td>167421.0</td>\n",
       "      <td>4.0</td>\n",
       "      <td>16259.0</td>\n",
       "    </tr>\n",
       "    <tr>\n",
       "      <th>11</th>\n",
       "      <td>Nissan</td>\n",
       "      <td>Green</td>\n",
       "      <td>17119.0</td>\n",
       "      <td>4.0</td>\n",
       "      <td>6160.0</td>\n",
       "    </tr>\n",
       "    <tr>\n",
       "      <th>12</th>\n",
       "      <td>Nissan</td>\n",
       "      <td>White</td>\n",
       "      <td>102303.0</td>\n",
       "      <td>4.0</td>\n",
       "      <td>16909.0</td>\n",
       "    </tr>\n",
       "    <tr>\n",
       "      <th>13</th>\n",
       "      <td>10</td>\n",
       "      <td>White</td>\n",
       "      <td>134181.0</td>\n",
       "      <td>4.0</td>\n",
       "      <td>11121.0</td>\n",
       "    </tr>\n",
       "    <tr>\n",
       "      <th>14</th>\n",
       "      <td>Honda</td>\n",
       "      <td>Blue</td>\n",
       "      <td>199833.0</td>\n",
       "      <td>4.0</td>\n",
       "      <td>18946.0</td>\n",
       "    </tr>\n",
       "  </tbody>\n",
       "</table>\n",
       "</div>"
      ],
      "text/plain": [
       "      Make Colour  Odometer (KM)  Doors    Price\n",
       "0    Honda  White        35431.0    4.0  15323.0\n",
       "1      BMW   Blue       192714.0    5.0  19943.0\n",
       "2    Honda  White        84714.0    4.0  28343.0\n",
       "3   Toyota  White       154365.0    4.0  13434.0\n",
       "4   Nissan   Blue       181577.0    3.0  14043.0\n",
       "5    Honda    Red        42652.0    4.0  23883.0\n",
       "6   Toyota   Blue       163453.0    4.0   8473.0\n",
       "7    Honda  White           10.0    4.0  20306.0\n",
       "8       10  White       130538.0    4.0   9374.0\n",
       "9    Honda   Blue        51029.0    4.0  26683.0\n",
       "10  Nissan  White       167421.0    4.0  16259.0\n",
       "11  Nissan  Green        17119.0    4.0   6160.0\n",
       "12  Nissan  White       102303.0    4.0  16909.0\n",
       "13      10  White       134181.0    4.0  11121.0\n",
       "14   Honda   Blue       199833.0    4.0  18946.0"
      ]
     },
     "execution_count": 36,
     "metadata": {},
     "output_type": "execute_result"
    }
   ],
   "source": [
    "dataset2.fillna(10).head(15) #fill all null values with 10 in dataset"
   ]
  },
  {
   "cell_type": "code",
   "execution_count": 37,
   "id": "c9ecea86-7699-489b-8bc2-394c2a5127d2",
   "metadata": {},
   "outputs": [
    {
     "data": {
      "text/plain": [
       "Make             49\n",
       "Colour           50\n",
       "Odometer (KM)    50\n",
       "Doors            50\n",
       "Price            50\n",
       "dtype: int64"
      ]
     },
     "execution_count": 37,
     "metadata": {},
     "output_type": "execute_result"
    }
   ],
   "source": [
    "dataset2.isnull().sum()"
   ]
  },
  {
   "cell_type": "code",
   "execution_count": 43,
   "id": "48a7d70e-57b8-458f-87ad-97334a16938f",
   "metadata": {},
   "outputs": [
    {
     "data": {
      "text/html": [
       "<div>\n",
       "<style scoped>\n",
       "    .dataframe tbody tr th:only-of-type {\n",
       "        vertical-align: middle;\n",
       "    }\n",
       "\n",
       "    .dataframe tbody tr th {\n",
       "        vertical-align: top;\n",
       "    }\n",
       "\n",
       "    .dataframe thead th {\n",
       "        text-align: right;\n",
       "    }\n",
       "</style>\n",
       "<table border=\"1\" class=\"dataframe\">\n",
       "  <thead>\n",
       "    <tr style=\"text-align: right;\">\n",
       "      <th></th>\n",
       "      <th>Make</th>\n",
       "      <th>Colour</th>\n",
       "      <th>Odometer (KM)</th>\n",
       "      <th>Doors</th>\n",
       "      <th>Price</th>\n",
       "    </tr>\n",
       "  </thead>\n",
       "  <tbody>\n",
       "    <tr>\n",
       "      <th>0</th>\n",
       "      <td>Honda</td>\n",
       "      <td>White</td>\n",
       "      <td>35431.0</td>\n",
       "      <td>4.0</td>\n",
       "      <td>15323.0</td>\n",
       "    </tr>\n",
       "    <tr>\n",
       "      <th>1</th>\n",
       "      <td>BMW</td>\n",
       "      <td>Blue</td>\n",
       "      <td>192714.0</td>\n",
       "      <td>5.0</td>\n",
       "      <td>19943.0</td>\n",
       "    </tr>\n",
       "    <tr>\n",
       "      <th>2</th>\n",
       "      <td>Honda</td>\n",
       "      <td>White</td>\n",
       "      <td>84714.0</td>\n",
       "      <td>4.0</td>\n",
       "      <td>28343.0</td>\n",
       "    </tr>\n",
       "    <tr>\n",
       "      <th>3</th>\n",
       "      <td>Toyota</td>\n",
       "      <td>White</td>\n",
       "      <td>154365.0</td>\n",
       "      <td>4.0</td>\n",
       "      <td>13434.0</td>\n",
       "    </tr>\n",
       "    <tr>\n",
       "      <th>4</th>\n",
       "      <td>Nissan</td>\n",
       "      <td>Blue</td>\n",
       "      <td>181577.0</td>\n",
       "      <td>3.0</td>\n",
       "      <td>14043.0</td>\n",
       "    </tr>\n",
       "    <tr>\n",
       "      <th>5</th>\n",
       "      <td>Honda</td>\n",
       "      <td>Red</td>\n",
       "      <td>42652.0</td>\n",
       "      <td>4.0</td>\n",
       "      <td>23883.0</td>\n",
       "    </tr>\n",
       "    <tr>\n",
       "      <th>6</th>\n",
       "      <td>Toyota</td>\n",
       "      <td>Blue</td>\n",
       "      <td>163453.0</td>\n",
       "      <td>4.0</td>\n",
       "      <td>8473.0</td>\n",
       "    </tr>\n",
       "    <tr>\n",
       "      <th>7</th>\n",
       "      <td>Honda</td>\n",
       "      <td>White</td>\n",
       "      <td>163453.0</td>\n",
       "      <td>4.0</td>\n",
       "      <td>20306.0</td>\n",
       "    </tr>\n",
       "    <tr>\n",
       "      <th>8</th>\n",
       "      <td>Honda</td>\n",
       "      <td>White</td>\n",
       "      <td>130538.0</td>\n",
       "      <td>4.0</td>\n",
       "      <td>9374.0</td>\n",
       "    </tr>\n",
       "    <tr>\n",
       "      <th>9</th>\n",
       "      <td>Honda</td>\n",
       "      <td>Blue</td>\n",
       "      <td>51029.0</td>\n",
       "      <td>4.0</td>\n",
       "      <td>26683.0</td>\n",
       "    </tr>\n",
       "    <tr>\n",
       "      <th>10</th>\n",
       "      <td>Nissan</td>\n",
       "      <td>White</td>\n",
       "      <td>167421.0</td>\n",
       "      <td>4.0</td>\n",
       "      <td>16259.0</td>\n",
       "    </tr>\n",
       "    <tr>\n",
       "      <th>11</th>\n",
       "      <td>Nissan</td>\n",
       "      <td>Green</td>\n",
       "      <td>17119.0</td>\n",
       "      <td>4.0</td>\n",
       "      <td>6160.0</td>\n",
       "    </tr>\n",
       "    <tr>\n",
       "      <th>12</th>\n",
       "      <td>Nissan</td>\n",
       "      <td>White</td>\n",
       "      <td>102303.0</td>\n",
       "      <td>4.0</td>\n",
       "      <td>16909.0</td>\n",
       "    </tr>\n",
       "    <tr>\n",
       "      <th>13</th>\n",
       "      <td>Nissan</td>\n",
       "      <td>White</td>\n",
       "      <td>134181.0</td>\n",
       "      <td>4.0</td>\n",
       "      <td>11121.0</td>\n",
       "    </tr>\n",
       "    <tr>\n",
       "      <th>14</th>\n",
       "      <td>Honda</td>\n",
       "      <td>Blue</td>\n",
       "      <td>199833.0</td>\n",
       "      <td>4.0</td>\n",
       "      <td>18946.0</td>\n",
       "    </tr>\n",
       "  </tbody>\n",
       "</table>\n",
       "</div>"
      ],
      "text/plain": [
       "      Make Colour  Odometer (KM)  Doors    Price\n",
       "0    Honda  White        35431.0    4.0  15323.0\n",
       "1      BMW   Blue       192714.0    5.0  19943.0\n",
       "2    Honda  White        84714.0    4.0  28343.0\n",
       "3   Toyota  White       154365.0    4.0  13434.0\n",
       "4   Nissan   Blue       181577.0    3.0  14043.0\n",
       "5    Honda    Red        42652.0    4.0  23883.0\n",
       "6   Toyota   Blue       163453.0    4.0   8473.0\n",
       "7    Honda  White       163453.0    4.0  20306.0\n",
       "8    Honda  White       130538.0    4.0   9374.0\n",
       "9    Honda   Blue        51029.0    4.0  26683.0\n",
       "10  Nissan  White       167421.0    4.0  16259.0\n",
       "11  Nissan  Green        17119.0    4.0   6160.0\n",
       "12  Nissan  White       102303.0    4.0  16909.0\n",
       "13  Nissan  White       134181.0    4.0  11121.0\n",
       "14   Honda   Blue       199833.0    4.0  18946.0"
      ]
     },
     "execution_count": 43,
     "metadata": {},
     "output_type": "execute_result"
    }
   ],
   "source": [
    "dataset2.ffill().head(15) #forward filling"
   ]
  },
  {
   "cell_type": "code",
   "execution_count": 45,
   "id": "61f6117c-f4dd-448a-babf-5e533c8d964a",
   "metadata": {},
   "outputs": [
    {
     "data": {
      "text/html": [
       "<div>\n",
       "<style scoped>\n",
       "    .dataframe tbody tr th:only-of-type {\n",
       "        vertical-align: middle;\n",
       "    }\n",
       "\n",
       "    .dataframe tbody tr th {\n",
       "        vertical-align: top;\n",
       "    }\n",
       "\n",
       "    .dataframe thead th {\n",
       "        text-align: right;\n",
       "    }\n",
       "</style>\n",
       "<table border=\"1\" class=\"dataframe\">\n",
       "  <thead>\n",
       "    <tr style=\"text-align: right;\">\n",
       "      <th></th>\n",
       "      <th>Make</th>\n",
       "      <th>Colour</th>\n",
       "      <th>Odometer (KM)</th>\n",
       "      <th>Doors</th>\n",
       "      <th>Price</th>\n",
       "    </tr>\n",
       "  </thead>\n",
       "  <tbody>\n",
       "    <tr>\n",
       "      <th>0</th>\n",
       "      <td>Honda</td>\n",
       "      <td>White</td>\n",
       "      <td>35431.0</td>\n",
       "      <td>4.0</td>\n",
       "      <td>15323.0</td>\n",
       "    </tr>\n",
       "    <tr>\n",
       "      <th>1</th>\n",
       "      <td>BMW</td>\n",
       "      <td>Blue</td>\n",
       "      <td>192714.0</td>\n",
       "      <td>5.0</td>\n",
       "      <td>19943.0</td>\n",
       "    </tr>\n",
       "    <tr>\n",
       "      <th>2</th>\n",
       "      <td>Honda</td>\n",
       "      <td>White</td>\n",
       "      <td>84714.0</td>\n",
       "      <td>4.0</td>\n",
       "      <td>28343.0</td>\n",
       "    </tr>\n",
       "    <tr>\n",
       "      <th>3</th>\n",
       "      <td>Toyota</td>\n",
       "      <td>White</td>\n",
       "      <td>154365.0</td>\n",
       "      <td>4.0</td>\n",
       "      <td>13434.0</td>\n",
       "    </tr>\n",
       "    <tr>\n",
       "      <th>4</th>\n",
       "      <td>Nissan</td>\n",
       "      <td>Blue</td>\n",
       "      <td>181577.0</td>\n",
       "      <td>3.0</td>\n",
       "      <td>14043.0</td>\n",
       "    </tr>\n",
       "    <tr>\n",
       "      <th>5</th>\n",
       "      <td>Honda</td>\n",
       "      <td>Red</td>\n",
       "      <td>42652.0</td>\n",
       "      <td>4.0</td>\n",
       "      <td>23883.0</td>\n",
       "    </tr>\n",
       "    <tr>\n",
       "      <th>6</th>\n",
       "      <td>Toyota</td>\n",
       "      <td>Blue</td>\n",
       "      <td>163453.0</td>\n",
       "      <td>4.0</td>\n",
       "      <td>8473.0</td>\n",
       "    </tr>\n",
       "    <tr>\n",
       "      <th>7</th>\n",
       "      <td>Honda</td>\n",
       "      <td>White</td>\n",
       "      <td>130538.0</td>\n",
       "      <td>4.0</td>\n",
       "      <td>20306.0</td>\n",
       "    </tr>\n",
       "    <tr>\n",
       "      <th>8</th>\n",
       "      <td>Honda</td>\n",
       "      <td>White</td>\n",
       "      <td>130538.0</td>\n",
       "      <td>4.0</td>\n",
       "      <td>9374.0</td>\n",
       "    </tr>\n",
       "    <tr>\n",
       "      <th>9</th>\n",
       "      <td>Honda</td>\n",
       "      <td>Blue</td>\n",
       "      <td>51029.0</td>\n",
       "      <td>4.0</td>\n",
       "      <td>26683.0</td>\n",
       "    </tr>\n",
       "    <tr>\n",
       "      <th>10</th>\n",
       "      <td>Nissan</td>\n",
       "      <td>White</td>\n",
       "      <td>167421.0</td>\n",
       "      <td>4.0</td>\n",
       "      <td>16259.0</td>\n",
       "    </tr>\n",
       "    <tr>\n",
       "      <th>11</th>\n",
       "      <td>Nissan</td>\n",
       "      <td>Green</td>\n",
       "      <td>17119.0</td>\n",
       "      <td>4.0</td>\n",
       "      <td>6160.0</td>\n",
       "    </tr>\n",
       "    <tr>\n",
       "      <th>12</th>\n",
       "      <td>Nissan</td>\n",
       "      <td>White</td>\n",
       "      <td>102303.0</td>\n",
       "      <td>4.0</td>\n",
       "      <td>16909.0</td>\n",
       "    </tr>\n",
       "    <tr>\n",
       "      <th>13</th>\n",
       "      <td>Honda</td>\n",
       "      <td>White</td>\n",
       "      <td>134181.0</td>\n",
       "      <td>4.0</td>\n",
       "      <td>11121.0</td>\n",
       "    </tr>\n",
       "    <tr>\n",
       "      <th>14</th>\n",
       "      <td>Honda</td>\n",
       "      <td>Blue</td>\n",
       "      <td>199833.0</td>\n",
       "      <td>4.0</td>\n",
       "      <td>18946.0</td>\n",
       "    </tr>\n",
       "  </tbody>\n",
       "</table>\n",
       "</div>"
      ],
      "text/plain": [
       "      Make Colour  Odometer (KM)  Doors    Price\n",
       "0    Honda  White        35431.0    4.0  15323.0\n",
       "1      BMW   Blue       192714.0    5.0  19943.0\n",
       "2    Honda  White        84714.0    4.0  28343.0\n",
       "3   Toyota  White       154365.0    4.0  13434.0\n",
       "4   Nissan   Blue       181577.0    3.0  14043.0\n",
       "5    Honda    Red        42652.0    4.0  23883.0\n",
       "6   Toyota   Blue       163453.0    4.0   8473.0\n",
       "7    Honda  White       130538.0    4.0  20306.0\n",
       "8    Honda  White       130538.0    4.0   9374.0\n",
       "9    Honda   Blue        51029.0    4.0  26683.0\n",
       "10  Nissan  White       167421.0    4.0  16259.0\n",
       "11  Nissan  Green        17119.0    4.0   6160.0\n",
       "12  Nissan  White       102303.0    4.0  16909.0\n",
       "13   Honda  White       134181.0    4.0  11121.0\n",
       "14   Honda   Blue       199833.0    4.0  18946.0"
      ]
     },
     "execution_count": 45,
     "metadata": {},
     "output_type": "execute_result"
    }
   ],
   "source": [
    "dataset2.bfill().head(15) #Backward filling"
   ]
  },
  {
   "cell_type": "code",
   "execution_count": 76,
   "id": "e2c366d4-91b6-4b08-8107-e24232b199c7",
   "metadata": {},
   "outputs": [],
   "source": [
    "dataset2.columns = dataset2.columns.str.strip() #Removing white spaces from columns name"
   ]
  },
  {
   "cell_type": "code",
   "execution_count": 77,
   "id": "a6569e08-99c2-471d-831a-8f3e5bc3658d",
   "metadata": {},
   "outputs": [
    {
     "data": {
      "text/plain": [
       "0       Honda\n",
       "1         BMW\n",
       "2       Honda\n",
       "3      Toyota\n",
       "4      Nissan\n",
       "        ...  \n",
       "995    Toyota\n",
       "996    Toyota\n",
       "997    Nissan\n",
       "998     Honda\n",
       "999    Toyota\n",
       "Name: Make, Length: 1000, dtype: object"
      ]
     },
     "execution_count": 77,
     "metadata": {},
     "output_type": "execute_result"
    }
   ],
   "source": [
    "dataset2[\"Make\"]"
   ]
  },
  {
   "cell_type": "code",
   "execution_count": 78,
   "id": "c0f93aa7-97ea-4f4b-86a9-e5a1c88fa79b",
   "metadata": {},
   "outputs": [
    {
     "name": "stdout",
     "output_type": "stream",
     "text": [
      "<class 'pandas.core.frame.DataFrame'>\n",
      "RangeIndex: 1000 entries, 0 to 999\n",
      "Data columns (total 5 columns):\n",
      " #   Column         Non-Null Count  Dtype  \n",
      "---  ------         --------------  -----  \n",
      " 0   Make           1000 non-null   object \n",
      " 1   Colour         1000 non-null   object \n",
      " 2   Odometer (KM)  950 non-null    float64\n",
      " 3   Doors          950 non-null    float64\n",
      " 4   Price          950 non-null    float64\n",
      "dtypes: float64(3), object(2)\n",
      "memory usage: 39.2+ KB\n"
     ]
    }
   ],
   "source": [
    "dataset2.info()"
   ]
  },
  {
   "cell_type": "code",
   "execution_count": 79,
   "id": "e5b968ea-ebd8-418c-97b2-c91c9c657ac3",
   "metadata": {},
   "outputs": [
    {
     "data": {
      "text/plain": [
       "'Toyota'"
      ]
     },
     "execution_count": 79,
     "metadata": {},
     "output_type": "execute_result"
    }
   ],
   "source": [
    "dataset2[\"Make\"].mode()[0]"
   ]
  },
  {
   "cell_type": "code",
   "execution_count": 80,
   "id": "b5e59794-f974-4d27-9275-74b57d574a5a",
   "metadata": {},
   "outputs": [
    {
     "data": {
      "text/plain": [
       "0      Honda\n",
       "1        BMW\n",
       "2      Honda\n",
       "3     Toyota\n",
       "4     Nissan\n",
       "5      Honda\n",
       "6     Toyota\n",
       "7      Honda\n",
       "8     Toyota\n",
       "9      Honda\n",
       "10    Nissan\n",
       "11    Nissan\n",
       "12    Nissan\n",
       "13    Toyota\n",
       "14     Honda\n",
       "Name: Make, dtype: object"
      ]
     },
     "execution_count": 80,
     "metadata": {},
     "output_type": "execute_result"
    }
   ],
   "source": [
    "dataset2[\"Make\"].fillna(dataset2[\"Make\"].mode()[0]).head(15) #fill one column with mode values"
   ]
  },
  {
   "cell_type": "code",
   "execution_count": null,
   "id": "8e7fd411-bc12-4909-9f55-9f23de035ac8",
   "metadata": {},
   "outputs": [],
   "source": []
  },
  {
   "cell_type": "code",
   "execution_count": 94,
   "id": "f2e184cd-34e2-43a9-b3bf-def274c73274",
   "metadata": {},
   "outputs": [
    {
     "name": "stderr",
     "output_type": "stream",
     "text": [
      "C:\\Users\\Lenovo\\AppData\\Local\\Temp\\ipykernel_59472\\363712277.py:2: FutureWarning: A value is trying to be set on a copy of a DataFrame or Series through chained assignment using an inplace method.\n",
      "The behavior will change in pandas 3.0. This inplace method will never work because the intermediate object on which we are setting values always behaves as a copy.\n",
      "\n",
      "For example, when doing 'df[col].method(value, inplace=True)', try using 'df.method({col: value}, inplace=True)' or df[col] = df[col].method(value) instead, to perform the operation inplace on the original object.\n",
      "\n",
      "\n",
      "  dataset2[i].fillna(dataset2[i].mode()[0], inplace=True)\n"
     ]
    }
   ],
   "source": [
    "for i in dataset2.select_dtypes(include=\"object\").columns:  #filling all object type columns with its mode\n",
    "    dataset2[i].fillna(dataset2[i].mode()[0], inplace=True) "
   ]
  },
  {
   "cell_type": "code",
   "execution_count": 89,
   "id": "e30e750a-1254-4409-9866-bfa25ba57931",
   "metadata": {},
   "outputs": [
    {
     "data": {
      "text/plain": [
       "Make              0\n",
       "Colour            0\n",
       "Odometer (KM)    50\n",
       "Doors            50\n",
       "Price            50\n",
       "dtype: int64"
      ]
     },
     "execution_count": 89,
     "metadata": {},
     "output_type": "execute_result"
    }
   ],
   "source": [
    "dataset2.isnull().sum()"
   ]
  },
  {
   "cell_type": "code",
   "execution_count": 92,
   "id": "1cfa75a6-10a4-4093-81c3-adc92bc5a1d6",
   "metadata": {},
   "outputs": [
    {
     "data": {
      "text/plain": [
       "'White'"
      ]
     },
     "execution_count": 92,
     "metadata": {},
     "output_type": "execute_result"
    }
   ],
   "source": [
    "dataset2[\"Colour\"].mode()[0]"
   ]
  },
  {
   "cell_type": "code",
   "execution_count": 93,
   "id": "6c904cb0-d4c4-4a0c-96e9-ed59607114d0",
   "metadata": {},
   "outputs": [
    {
     "data": {
      "text/html": [
       "<div>\n",
       "<style scoped>\n",
       "    .dataframe tbody tr th:only-of-type {\n",
       "        vertical-align: middle;\n",
       "    }\n",
       "\n",
       "    .dataframe tbody tr th {\n",
       "        vertical-align: top;\n",
       "    }\n",
       "\n",
       "    .dataframe thead th {\n",
       "        text-align: right;\n",
       "    }\n",
       "</style>\n",
       "<table border=\"1\" class=\"dataframe\">\n",
       "  <thead>\n",
       "    <tr style=\"text-align: right;\">\n",
       "      <th></th>\n",
       "      <th>Make</th>\n",
       "      <th>Colour</th>\n",
       "      <th>Odometer (KM)</th>\n",
       "      <th>Doors</th>\n",
       "      <th>Price</th>\n",
       "    </tr>\n",
       "  </thead>\n",
       "  <tbody>\n",
       "    <tr>\n",
       "      <th>0</th>\n",
       "      <td>Honda</td>\n",
       "      <td>White</td>\n",
       "      <td>35431.0</td>\n",
       "      <td>4.0</td>\n",
       "      <td>15323.0</td>\n",
       "    </tr>\n",
       "    <tr>\n",
       "      <th>1</th>\n",
       "      <td>BMW</td>\n",
       "      <td>Blue</td>\n",
       "      <td>192714.0</td>\n",
       "      <td>5.0</td>\n",
       "      <td>19943.0</td>\n",
       "    </tr>\n",
       "    <tr>\n",
       "      <th>2</th>\n",
       "      <td>Honda</td>\n",
       "      <td>White</td>\n",
       "      <td>84714.0</td>\n",
       "      <td>4.0</td>\n",
       "      <td>28343.0</td>\n",
       "    </tr>\n",
       "    <tr>\n",
       "      <th>3</th>\n",
       "      <td>Toyota</td>\n",
       "      <td>White</td>\n",
       "      <td>154365.0</td>\n",
       "      <td>4.0</td>\n",
       "      <td>13434.0</td>\n",
       "    </tr>\n",
       "    <tr>\n",
       "      <th>4</th>\n",
       "      <td>Nissan</td>\n",
       "      <td>Blue</td>\n",
       "      <td>181577.0</td>\n",
       "      <td>3.0</td>\n",
       "      <td>14043.0</td>\n",
       "    </tr>\n",
       "    <tr>\n",
       "      <th>...</th>\n",
       "      <td>...</td>\n",
       "      <td>...</td>\n",
       "      <td>...</td>\n",
       "      <td>...</td>\n",
       "      <td>...</td>\n",
       "    </tr>\n",
       "    <tr>\n",
       "      <th>95</th>\n",
       "      <td>Honda</td>\n",
       "      <td>Blue</td>\n",
       "      <td>143707.0</td>\n",
       "      <td>4.0</td>\n",
       "      <td>16337.0</td>\n",
       "    </tr>\n",
       "    <tr>\n",
       "      <th>96</th>\n",
       "      <td>Toyota</td>\n",
       "      <td>Blue</td>\n",
       "      <td>29856.0</td>\n",
       "      <td>4.0</td>\n",
       "      <td>11392.0</td>\n",
       "    </tr>\n",
       "    <tr>\n",
       "      <th>97</th>\n",
       "      <td>Toyota</td>\n",
       "      <td>Black</td>\n",
       "      <td>133433.0</td>\n",
       "      <td>4.0</td>\n",
       "      <td>16519.0</td>\n",
       "    </tr>\n",
       "    <tr>\n",
       "      <th>98</th>\n",
       "      <td>Toyota</td>\n",
       "      <td>Red</td>\n",
       "      <td>147455.0</td>\n",
       "      <td>4.0</td>\n",
       "      <td>22296.0</td>\n",
       "    </tr>\n",
       "    <tr>\n",
       "      <th>99</th>\n",
       "      <td>Honda</td>\n",
       "      <td>White</td>\n",
       "      <td>48069.0</td>\n",
       "      <td>4.0</td>\n",
       "      <td>12196.0</td>\n",
       "    </tr>\n",
       "  </tbody>\n",
       "</table>\n",
       "<p>100 rows × 5 columns</p>\n",
       "</div>"
      ],
      "text/plain": [
       "      Make Colour  Odometer (KM)  Doors    Price\n",
       "0    Honda  White        35431.0    4.0  15323.0\n",
       "1      BMW   Blue       192714.0    5.0  19943.0\n",
       "2    Honda  White        84714.0    4.0  28343.0\n",
       "3   Toyota  White       154365.0    4.0  13434.0\n",
       "4   Nissan   Blue       181577.0    3.0  14043.0\n",
       "..     ...    ...            ...    ...      ...\n",
       "95   Honda   Blue       143707.0    4.0  16337.0\n",
       "96  Toyota   Blue        29856.0    4.0  11392.0\n",
       "97  Toyota  Black       133433.0    4.0  16519.0\n",
       "98  Toyota    Red       147455.0    4.0  22296.0\n",
       "99   Honda  White        48069.0    4.0  12196.0\n",
       "\n",
       "[100 rows x 5 columns]"
      ]
     },
     "execution_count": 93,
     "metadata": {},
     "output_type": "execute_result"
    }
   ],
   "source": [
    "dataset2.head(100)"
   ]
  },
  {
   "cell_type": "code",
   "execution_count": null,
   "id": "6dff2dbb-3798-4430-bc6d-52dd1ae71f3c",
   "metadata": {},
   "outputs": [],
   "source": []
  },
  {
   "cell_type": "code",
   "execution_count": null,
   "id": "fbda6569-acb2-4a14-a979-f8cf8ab0ab10",
   "metadata": {},
   "outputs": [],
   "source": []
  },
  {
   "cell_type": "code",
   "execution_count": 98,
   "id": "228f9f1d-4a31-4909-b2c1-f692866a90b2",
   "metadata": {},
   "outputs": [],
   "source": [
    "from sklearn.impute import SimpleImputer"
   ]
  },
  {
   "cell_type": "code",
   "execution_count": 100,
   "id": "308070ad-c3ec-4f94-82ad-181340ee9371",
   "metadata": {},
   "outputs": [],
   "source": [
    "si = SimpleImputer(strategy=\"mean\")"
   ]
  },
  {
   "cell_type": "code",
   "execution_count": 101,
   "id": "eb998bde-0781-47ab-ac0e-60a87c0eaf60",
   "metadata": {},
   "outputs": [
    {
     "data": {
      "text/plain": [
       "Make              0\n",
       "Colour            0\n",
       "Odometer (KM)    50\n",
       "Doors            50\n",
       "Price            50\n",
       "dtype: int64"
      ]
     },
     "execution_count": 101,
     "metadata": {},
     "output_type": "execute_result"
    }
   ],
   "source": [
    "dataset2.isnull().sum()"
   ]
  },
  {
   "cell_type": "code",
   "execution_count": 103,
   "id": "a8d9f433-4742-4ad9-a384-12d9cca38821",
   "metadata": {},
   "outputs": [
    {
     "name": "stdout",
     "output_type": "stream",
     "text": [
      "<class 'pandas.core.frame.DataFrame'>\n",
      "RangeIndex: 1000 entries, 0 to 999\n",
      "Data columns (total 5 columns):\n",
      " #   Column         Non-Null Count  Dtype  \n",
      "---  ------         --------------  -----  \n",
      " 0   Make           1000 non-null   object \n",
      " 1   Colour         1000 non-null   object \n",
      " 2   Odometer (KM)  950 non-null    float64\n",
      " 3   Doors          950 non-null    float64\n",
      " 4   Price          950 non-null    float64\n",
      "dtypes: float64(3), object(2)\n",
      "memory usage: 39.2+ KB\n"
     ]
    }
   ],
   "source": [
    "dataset2.info()"
   ]
  },
  {
   "cell_type": "code",
   "execution_count": 104,
   "id": "28d02c83-f28a-48dc-87ba-a06e4d58d522",
   "metadata": {},
   "outputs": [
    {
     "data": {
      "text/plain": [
       "Index(['Odometer (KM)', 'Doors', 'Price'], dtype='object')"
      ]
     },
     "execution_count": 104,
     "metadata": {},
     "output_type": "execute_result"
    }
   ],
   "source": [
    "dataset2.select_dtypes(include='float64').columns"
   ]
  },
  {
   "cell_type": "code",
   "execution_count": 106,
   "id": "6defa7fe-2af5-4c7a-a054-ca93b46a9943",
   "metadata": {},
   "outputs": [],
   "source": [
    "ar = si.fit_transform(dataset2[['Odometer (KM)', 'Doors', 'Price']])"
   ]
  },
  {
   "cell_type": "code",
   "execution_count": 107,
   "id": "73a3e464-4741-421b-a183-f01d07b62dd1",
   "metadata": {},
   "outputs": [],
   "source": [
    "new_dataset = pd.DataFrame(ar,columns=dataset2.select_dtypes(include='float64').columns)"
   ]
  },
  {
   "cell_type": "code",
   "execution_count": 109,
   "id": "2f11fa0a-8577-44cb-86a3-a12c720863ee",
   "metadata": {},
   "outputs": [
    {
     "data": {
      "text/plain": [
       "Odometer (KM)    0\n",
       "Doors            0\n",
       "Price            0\n",
       "dtype: int64"
      ]
     },
     "execution_count": 109,
     "metadata": {},
     "output_type": "execute_result"
    }
   ],
   "source": [
    "new_dataset.isnull().sum()"
   ]
  },
  {
   "cell_type": "code",
   "execution_count": 111,
   "id": "8b00dd3d-48a6-4617-8258-e754e45011aa",
   "metadata": {},
   "outputs": [
    {
     "data": {
      "text/html": [
       "<div>\n",
       "<style scoped>\n",
       "    .dataframe tbody tr th:only-of-type {\n",
       "        vertical-align: middle;\n",
       "    }\n",
       "\n",
       "    .dataframe tbody tr th {\n",
       "        vertical-align: top;\n",
       "    }\n",
       "\n",
       "    .dataframe thead th {\n",
       "        text-align: right;\n",
       "    }\n",
       "</style>\n",
       "<table border=\"1\" class=\"dataframe\">\n",
       "  <thead>\n",
       "    <tr style=\"text-align: right;\">\n",
       "      <th></th>\n",
       "      <th>Odometer (KM)</th>\n",
       "      <th>Doors</th>\n",
       "      <th>Price</th>\n",
       "    </tr>\n",
       "  </thead>\n",
       "  <tbody>\n",
       "    <tr>\n",
       "      <th>0</th>\n",
       "      <td>35431.000000</td>\n",
       "      <td>4.0</td>\n",
       "      <td>15323.0</td>\n",
       "    </tr>\n",
       "    <tr>\n",
       "      <th>1</th>\n",
       "      <td>192714.000000</td>\n",
       "      <td>5.0</td>\n",
       "      <td>19943.0</td>\n",
       "    </tr>\n",
       "    <tr>\n",
       "      <th>2</th>\n",
       "      <td>84714.000000</td>\n",
       "      <td>4.0</td>\n",
       "      <td>28343.0</td>\n",
       "    </tr>\n",
       "    <tr>\n",
       "      <th>3</th>\n",
       "      <td>154365.000000</td>\n",
       "      <td>4.0</td>\n",
       "      <td>13434.0</td>\n",
       "    </tr>\n",
       "    <tr>\n",
       "      <th>4</th>\n",
       "      <td>181577.000000</td>\n",
       "      <td>3.0</td>\n",
       "      <td>14043.0</td>\n",
       "    </tr>\n",
       "    <tr>\n",
       "      <th>5</th>\n",
       "      <td>42652.000000</td>\n",
       "      <td>4.0</td>\n",
       "      <td>23883.0</td>\n",
       "    </tr>\n",
       "    <tr>\n",
       "      <th>6</th>\n",
       "      <td>163453.000000</td>\n",
       "      <td>4.0</td>\n",
       "      <td>8473.0</td>\n",
       "    </tr>\n",
       "    <tr>\n",
       "      <th>7</th>\n",
       "      <td>131253.237895</td>\n",
       "      <td>4.0</td>\n",
       "      <td>20306.0</td>\n",
       "    </tr>\n",
       "    <tr>\n",
       "      <th>8</th>\n",
       "      <td>130538.000000</td>\n",
       "      <td>4.0</td>\n",
       "      <td>9374.0</td>\n",
       "    </tr>\n",
       "    <tr>\n",
       "      <th>9</th>\n",
       "      <td>51029.000000</td>\n",
       "      <td>4.0</td>\n",
       "      <td>26683.0</td>\n",
       "    </tr>\n",
       "    <tr>\n",
       "      <th>10</th>\n",
       "      <td>167421.000000</td>\n",
       "      <td>4.0</td>\n",
       "      <td>16259.0</td>\n",
       "    </tr>\n",
       "    <tr>\n",
       "      <th>11</th>\n",
       "      <td>17119.000000</td>\n",
       "      <td>4.0</td>\n",
       "      <td>6160.0</td>\n",
       "    </tr>\n",
       "    <tr>\n",
       "      <th>12</th>\n",
       "      <td>102303.000000</td>\n",
       "      <td>4.0</td>\n",
       "      <td>16909.0</td>\n",
       "    </tr>\n",
       "    <tr>\n",
       "      <th>13</th>\n",
       "      <td>134181.000000</td>\n",
       "      <td>4.0</td>\n",
       "      <td>11121.0</td>\n",
       "    </tr>\n",
       "    <tr>\n",
       "      <th>14</th>\n",
       "      <td>199833.000000</td>\n",
       "      <td>4.0</td>\n",
       "      <td>18946.0</td>\n",
       "    </tr>\n",
       "    <tr>\n",
       "      <th>15</th>\n",
       "      <td>205592.000000</td>\n",
       "      <td>4.0</td>\n",
       "      <td>16290.0</td>\n",
       "    </tr>\n",
       "    <tr>\n",
       "      <th>16</th>\n",
       "      <td>96742.000000</td>\n",
       "      <td>4.0</td>\n",
       "      <td>34465.0</td>\n",
       "    </tr>\n",
       "    <tr>\n",
       "      <th>17</th>\n",
       "      <td>194189.000000</td>\n",
       "      <td>5.0</td>\n",
       "      <td>17177.0</td>\n",
       "    </tr>\n",
       "    <tr>\n",
       "      <th>18</th>\n",
       "      <td>67991.000000</td>\n",
       "      <td>3.0</td>\n",
       "      <td>9109.0</td>\n",
       "    </tr>\n",
       "    <tr>\n",
       "      <th>19</th>\n",
       "      <td>215820.000000</td>\n",
       "      <td>4.0</td>\n",
       "      <td>6010.0</td>\n",
       "    </tr>\n",
       "  </tbody>\n",
       "</table>\n",
       "</div>"
      ],
      "text/plain": [
       "    Odometer (KM)  Doors    Price\n",
       "0    35431.000000    4.0  15323.0\n",
       "1   192714.000000    5.0  19943.0\n",
       "2    84714.000000    4.0  28343.0\n",
       "3   154365.000000    4.0  13434.0\n",
       "4   181577.000000    3.0  14043.0\n",
       "5    42652.000000    4.0  23883.0\n",
       "6   163453.000000    4.0   8473.0\n",
       "7   131253.237895    4.0  20306.0\n",
       "8   130538.000000    4.0   9374.0\n",
       "9    51029.000000    4.0  26683.0\n",
       "10  167421.000000    4.0  16259.0\n",
       "11   17119.000000    4.0   6160.0\n",
       "12  102303.000000    4.0  16909.0\n",
       "13  134181.000000    4.0  11121.0\n",
       "14  199833.000000    4.0  18946.0\n",
       "15  205592.000000    4.0  16290.0\n",
       "16   96742.000000    4.0  34465.0\n",
       "17  194189.000000    5.0  17177.0\n",
       "18   67991.000000    3.0   9109.0\n",
       "19  215820.000000    4.0   6010.0"
      ]
     },
     "execution_count": 111,
     "metadata": {},
     "output_type": "execute_result"
    }
   ],
   "source": [
    "new_dataset.head(20)"
   ]
  },
  {
   "cell_type": "code",
   "execution_count": null,
   "id": "708885f1-8e40-4a0a-983e-8e6967f6d1ca",
   "metadata": {},
   "outputs": [],
   "source": []
  }
 ],
 "metadata": {
  "kernelspec": {
   "display_name": "Python 3 (ipykernel)",
   "language": "python",
   "name": "python3"
  },
  "language_info": {
   "codemirror_mode": {
    "name": "ipython",
    "version": 3
   },
   "file_extension": ".py",
   "mimetype": "text/x-python",
   "name": "python",
   "nbconvert_exporter": "python",
   "pygments_lexer": "ipython3",
   "version": "3.10.5"
  }
 },
 "nbformat": 4,
 "nbformat_minor": 5
}
