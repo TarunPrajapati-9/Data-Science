{
 "cells": [
  {
   "cell_type": "code",
   "execution_count": 1,
   "id": "34cd991b-e50c-4cd2-bbaa-6e62539ce693",
   "metadata": {},
   "outputs": [],
   "source": [
    "import scipy.stats as sc\n",
    "import numpy as np"
   ]
  },
  {
   "cell_type": "code",
   "execution_count": 4,
   "id": "d27a114d-5cab-44fe-8202-d0332931d514",
   "metadata": {},
   "outputs": [],
   "source": [
    "Before = np.array([50,60,45,65,55,70,40,75,80,65,70,60,50,55,45,75,60,50,65,70])\n",
    "After = np.array([60,70,55,75,65,80,50,85,90,70,75,65,55,60,50,80,65,55,70,75])"
   ]
  },
  {
   "cell_type": "code",
   "execution_count": 7,
   "id": "9266ba93-453d-42d5-b8d9-f804179b17c1",
   "metadata": {},
   "outputs": [
    {
     "data": {
      "text/plain": [
       "np.float64(2.093024054408263)"
      ]
     },
     "execution_count": 7,
     "metadata": {},
     "output_type": "execute_result"
    }
   ],
   "source": [
    "t_table = sc.t.ppf(1-0.025,19)\n",
    "t_table"
   ]
  },
  {
   "cell_type": "code",
   "execution_count": 10,
   "id": "0ef8045a-82f6-40ab-b9a2-516a090258f0",
   "metadata": {},
   "outputs": [],
   "source": [
    "mean_a = np.mean(After)\n",
    "mean_b = np.mean(Before)\n",
    "sta_a = np.std(After)\n",
    "sta_b = np.std(Before)"
   ]
  },
  {
   "cell_type": "code",
   "execution_count": 14,
   "id": "5f0cb7f4-981e-47a1-9e5d-b270389628ba",
   "metadata": {},
   "outputs": [
    {
     "data": {
      "text/plain": [
       "np.float64(2.061200527128206)"
      ]
     },
     "execution_count": 14,
     "metadata": {},
     "output_type": "execute_result"
    }
   ],
   "source": [
    "t_cal = (mean_a - mean_b) / np.sqrt(((sta_a*sta_a)/len(After) + ((sta_b * sta_b)/len(Before))))\n",
    "t_cal"
   ]
  },
  {
   "cell_type": "code",
   "execution_count": 17,
   "id": "e7dccc38-40bd-4024-8f14-c26a875860e6",
   "metadata": {},
   "outputs": [
    {
     "name": "stdout",
     "output_type": "stream",
     "text": [
      "Null Hypothesis(H0) is Accepted\n"
     ]
    }
   ],
   "source": [
    "if t_cal < t_table : #two tailed test\n",
    "     print(\"Null Hypothesis(H0) is Accepted\")\n",
    "else:\n",
    "     print(\"Alternative Hypothesis(H1) is Accepted\")"
   ]
  },
  {
   "cell_type": "code",
   "execution_count": null,
   "id": "f241dd06-edbc-49b7-a7c4-10b367fac92e",
   "metadata": {},
   "outputs": [],
   "source": []
  }
 ],
 "metadata": {
  "kernelspec": {
   "display_name": "Python 3 (ipykernel)",
   "language": "python",
   "name": "python3"
  },
  "language_info": {
   "codemirror_mode": {
    "name": "ipython",
    "version": 3
   },
   "file_extension": ".py",
   "mimetype": "text/x-python",
   "name": "python",
   "nbconvert_exporter": "python",
   "pygments_lexer": "ipython3",
   "version": "3.10.5"
  }
 },
 "nbformat": 4,
 "nbformat_minor": 5
}
