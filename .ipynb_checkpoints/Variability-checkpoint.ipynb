{
 "cells": [
  {
   "cell_type": "code",
   "execution_count": 1,
   "id": "6365022d-9cf8-43bd-b6d2-5793f5225bbb",
   "metadata": {},
   "outputs": [],
   "source": [
    "import numpy as np\n",
    "import pandas as pd\n",
    "import matplotlib.pyplot as plt\n",
    "import seaborn as sns"
   ]
  },
  {
   "cell_type": "code",
   "execution_count": 8,
   "id": "8ed765de-9363-4e0b-8ba1-79dfb298ba58",
   "metadata": {},
   "outputs": [],
   "source": [
    "sec_A = np.array([75,65,73,68,72,67])\n",
    "sec_B = np.array([90,47,43,96,93,51])\n",
    "no = np.array([1,2,3,4,5,6])"
   ]
  },
  {
   "cell_type": "code",
   "execution_count": 22,
   "id": "0ea3e1a4-659d-49d9-9b45-6f0a8ba13447",
   "metadata": {},
   "outputs": [
    {
     "data": {
      "text/plain": [
       "70.0"
      ]
     },
     "execution_count": 22,
     "metadata": {},
     "output_type": "execute_result"
    }
   ],
   "source": [
    "mean = np.mean(sec_A)\n",
    "mean"
   ]
  },
  {
   "cell_type": "code",
   "execution_count": 27,
   "id": "be72bb9a-b8d1-4f5a-9ae8-683d5c051a6a",
   "metadata": {},
   "outputs": [
    {
     "data": {
      "text/plain": [
       "(3.3333333333333335, 23.0)"
      ]
     },
     "execution_count": 27,
     "metadata": {},
     "output_type": "execute_result"
    }
   ],
   "source": [
    "#Mean Absolute Deviation\n",
    "mad_A = np.sum(np.abs(sec_A - mean))/len(sec_A)\n",
    "mad_B = np.sum(np.abs(sec_B - mean))/len(sec_B)\n",
    "mad_A,mad_B  #less MAD means good data and result"
   ]
  },
  {
   "cell_type": "code",
   "execution_count": 28,
   "id": "d43fc3d3-b0d7-4207-8f5e-ebca9b9d031a",
   "metadata": {},
   "outputs": [
    {
     "data": {
      "text/plain": [
       "(3.559026084010437, 23.18045153428495)"
      ]
     },
     "execution_count": 28,
     "metadata": {},
     "output_type": "execute_result"
    }
   ],
   "source": [
    "#Standard Deviation\n",
    "np.std(sec_A),np.std(sec_B)"
   ]
  },
  {
   "cell_type": "code",
   "execution_count": 29,
   "id": "75669aa1-4419-433f-b299-4bf16fa7a8e5",
   "metadata": {},
   "outputs": [
    {
     "data": {
      "text/plain": [
       "(12.666666666666666, 537.3333333333334)"
      ]
     },
     "execution_count": 29,
     "metadata": {},
     "output_type": "execute_result"
    }
   ],
   "source": [
    "#Variance Variance = STD^2\n",
    "np.var(sec_A),np.var(sec_B)"
   ]
  },
  {
   "cell_type": "code",
   "execution_count": 35,
   "id": "de7ac451-074f-4d3c-a697-fd8a073d83f4",
   "metadata": {},
   "outputs": [
    {
     "data": {
      "text/plain": [
       "(12.666666666666666, 537.3333333333334)"
      ]
     },
     "execution_count": 35,
     "metadata": {},
     "output_type": "execute_result"
    }
   ],
   "source": [
    "#Verify Variance\n",
    "3.559026084010437 **2, 23.18045153428495**2"
   ]
  },
  {
   "cell_type": "code",
   "execution_count": 26,
   "id": "fca3c819-077c-422e-862f-bc06dc3676d3",
   "metadata": {},
   "outputs": [
    {
     "data": {
      "image/png": "[encoded data removed]",
      "text/plain": [
       "<Figure size 800x300 with 1 Axes>"
      ]
     },
     "metadata": {},
     "output_type": "display_data"
    }
   ],
   "source": [
    "plt.figure(figsize=(8,3))\n",
    "plt.scatter(sec_A,no,label=\"sec A\")\n",
    "plt.scatter(sec_B,no,label=\"sec B\")\n",
    "plt.plot([mean for i in range(1,7)],no,c=\"red\",label=\"Mean\")\n",
    "plt.legend()\n",
    "plt.show()"
   ]
  },
  {
   "cell_type": "code",
   "execution_count": null,
   "id": "be59f06d-0af4-46e8-9cfe-b2ab3275bfd7",
   "metadata": {},
   "outputs": [],
   "source": []
  }
 ],
 "metadata": {
  "kernelspec": {
   "display_name": "Python 3 (ipykernel)",
   "language": "python",
   "name": "python3"
  },
  "language_info": {
   "codemirror_mode": {
    "name": "ipython",
    "version": 3
   },
   "file_extension": ".py",
   "mimetype": "text/x-python",
   "name": "python",
   "nbconvert_exporter": "python",
   "pygments_lexer": "ipython3",
   "version": "3.10.5"
  }
 },
 "nbformat": 4,
 "nbformat_minor": 5
}
