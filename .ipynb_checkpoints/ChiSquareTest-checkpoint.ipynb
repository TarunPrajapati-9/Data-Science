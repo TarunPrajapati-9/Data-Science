{
 "cells": [
  {
   "cell_type": "code",
   "execution_count": 1,
   "id": "1126bc88-95b4-47b8-8d08-a6df9c0405d5",
   "metadata": {},
   "outputs": [],
   "source": [
    "import numpy as np"
   ]
  },
  {
   "cell_type": "code",
   "execution_count": 2,
   "id": "40d99cb7-39ef-4e52-a9ef-f8b25767aaf0",
   "metadata": {},
   "outputs": [],
   "source": [
    "obj = np.array([22,17,20,26,22,13])\n",
    "exp = np.array([20,20,20,20,20,20])"
   ]
  },
  {
   "cell_type": "code",
   "execution_count": 3,
   "id": "42f831d0-5054-4239-9be7-38d59f894f6e",
   "metadata": {},
   "outputs": [
    {
     "data": {
      "text/plain": [
       "np.float64(5.1000000000000005)"
      ]
     },
     "execution_count": 3,
     "metadata": {},
     "output_type": "execute_result"
    }
   ],
   "source": [
    "np.sum(np.square((obj - exp))/exp)"
   ]
  },
  {
   "cell_type": "code",
   "execution_count": null,
   "id": "513750af-2630-4d8b-bd5c-3effbee97d8e",
   "metadata": {},
   "outputs": [],
   "source": []
  },
  {
   "cell_type": "code",
   "execution_count": null,
   "id": "90fa2d70-719f-4b00-ac51-e7d3a16c69dd",
   "metadata": {},
   "outputs": [],
   "source": []
  },
  {
   "cell_type": "markdown",
   "id": "f3f9fe0f-a558-4816-8d23-8808a152b77d",
   "metadata": {},
   "source": [
    "#Chi Square Association"
   ]
  },
  {
   "cell_type": "code",
   "execution_count": 4,
   "id": "88ff4c0c-c163-4651-9e3a-63084c403f70",
   "metadata": {},
   "outputs": [],
   "source": [
    "row1 = np.array([40,45,25,10])\n",
    "row2 = np.array([35,30,20,30])"
   ]
  },
  {
   "cell_type": "code",
   "execution_count": 7,
   "id": "a0ef1670-4d6c-4a74-be4c-5b71bb1a0bd2",
   "metadata": {},
   "outputs": [],
   "source": [
    "N = np.sum(row1) + np.sum(row2)"
   ]
  },
  {
   "cell_type": "code",
   "execution_count": 15,
   "id": "ab508a26-7982-49f8-9ba4-a872130f7aec",
   "metadata": {},
   "outputs": [
    {
     "data": {
      "text/plain": [
       "array([120, 115])"
      ]
     },
     "execution_count": 15,
     "metadata": {},
     "output_type": "execute_result"
    }
   ],
   "source": [
    "sum_r1 =  np.sum(row1)\n",
    "sum_r2 = np.sum(row2)\n",
    "sum_row = np.array([sum_r1,sum_r2])\n",
    "sum_row"
   ]
  },
  {
   "cell_type": "code",
   "execution_count": 14,
   "id": "e2a6ddc3-b9c6-46c1-a3af-b3073feadc9d",
   "metadata": {},
   "outputs": [
    {
     "data": {
      "text/plain": [
       "array([75, 75, 45, 40])"
      ]
     },
     "execution_count": 14,
     "metadata": {},
     "output_type": "execute_result"
    }
   ],
   "source": [
    "sum_col = row1 + row2\n",
    "sum_col"
   ]
  },
  {
   "cell_type": "code",
   "execution_count": 16,
   "id": "38547c46-fce7-4b86-805f-43a7a5a3b548",
   "metadata": {},
   "outputs": [],
   "source": [
    "exp = []\n",
    "for i in sum_row:\n",
    "    for j in sum_col:\n",
    "        value = i*j/N\n",
    "        exp.append(value)"
   ]
  },
  {
   "cell_type": "code",
   "execution_count": 18,
   "id": "b5a23a6f-17a0-4a4f-997e-bd63b74761a7",
   "metadata": {},
   "outputs": [],
   "source": [
    "obj  = np.array([40,45,25,10,35,30,20,30])"
   ]
  },
  {
   "cell_type": "code",
   "execution_count": 19,
   "id": "abee52c6-dd3b-4ae2-bb60-f0401a6e6830",
   "metadata": {},
   "outputs": [
    {
     "data": {
      "text/plain": [
       "np.float64(13.788747987117553)"
      ]
     },
     "execution_count": 19,
     "metadata": {},
     "output_type": "execute_result"
    }
   ],
   "source": [
    "np.sum(np.square((obj - exp))/exp)"
   ]
  },
  {
   "cell_type": "code",
   "execution_count": null,
   "id": "59f70f99-c510-4128-972c-232528dac786",
   "metadata": {},
   "outputs": [],
   "source": []
  }
 ],
 "metadata": {
  "kernelspec": {
   "display_name": "Python 3 (ipykernel)",
   "language": "python",
   "name": "python3"
  },
  "language_info": {
   "codemirror_mode": {
    "name": "ipython",
    "version": 3
   },
   "file_extension": ".py",
   "mimetype": "text/x-python",
   "name": "python",
   "nbconvert_exporter": "python",
   "pygments_lexer": "ipython3",
   "version": "3.10.5"
  }
 },
 "nbformat": 4,
 "nbformat_minor": 5
}
