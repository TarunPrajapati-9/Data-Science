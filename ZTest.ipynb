{
 "cells": [
  {
   "cell_type": "code",
   "execution_count": 8,
   "id": "aa09f8f8-02d0-4c78-b34b-581dac689021",
   "metadata": {},
   "outputs": [],
   "source": [
    "import scipy.stats as st\n",
    "import numpy as np"
   ]
  },
  {
   "cell_type": "code",
   "execution_count": 16,
   "id": "a27ee9bb-218d-49dd-80d3-04a157e95079",
   "metadata": {},
   "outputs": [],
   "source": [
    "p_mean = 100\n",
    "p_std = 15\n",
    "s_mean = 110\n",
    "n = 50\n",
    "alpha = 0.05"
   ]
  },
  {
   "cell_type": "code",
   "execution_count": 17,
   "id": "3fb03215-95fa-4fb3-9320-d779b874e283",
   "metadata": {},
   "outputs": [
    {
     "data": {
      "text/plain": [
       "np.float64(4.714045207910317)"
      ]
     },
     "execution_count": 17,
     "metadata": {},
     "output_type": "execute_result"
    }
   ],
   "source": [
    "z_cal = (s_mean - p_mean)/(p_std/np.sqrt(n))\n",
    "z_cal"
   ]
  },
  {
   "cell_type": "code",
   "execution_count": 18,
   "id": "c257118c-ef5d-42c5-b468-511473f6c393",
   "metadata": {},
   "outputs": [
    {
     "data": {
      "text/plain": [
       "np.float64(1.6448536269514722)"
      ]
     },
     "execution_count": 18,
     "metadata": {},
     "output_type": "execute_result"
    }
   ],
   "source": [
    "z_tab = st.norm.ppf(1-alpha)\n",
    "z_tab"
   ]
  },
  {
   "cell_type": "code",
   "execution_count": 19,
   "id": "23fbbdf8-af44-4cdf-8a21-d8cae650f63e",
   "metadata": {},
   "outputs": [
    {
     "name": "stdout",
     "output_type": "stream",
     "text": [
      "Alternative Hypothesis(H1) is Correct\n"
     ]
    }
   ],
   "source": [
    "if z_tab < z_cal :\n",
    "    print(\"Alternative Hypothesis(H1) is Correct\")\n",
    "else :\n",
    "    print(\"Null Hypothesis(Ho) is Correct\")"
   ]
  },
  {
   "cell_type": "code",
   "execution_count": null,
   "id": "317bf9ab-3b86-4720-bd59-94237da2396d",
   "metadata": {},
   "outputs": [],
   "source": []
  }
 ],
 "metadata": {
  "kernelspec": {
   "display_name": "Python 3 (ipykernel)",
   "language": "python",
   "name": "python3"
  },
  "language_info": {
   "codemirror_mode": {
    "name": "ipython",
    "version": 3
   },
   "file_extension": ".py",
   "mimetype": "text/x-python",
   "name": "python",
   "nbconvert_exporter": "python",
   "pygments_lexer": "ipython3",
   "version": "3.10.5"
  }
 },
 "nbformat": 4,
 "nbformat_minor": 5
}
